{
 "cells": [
  {
   "cell_type": "markdown",
   "id": "3a089289",
   "metadata": {},
   "source": [
    "# Break and Continue"
   ]
  },
  {
   "cell_type": "markdown",
   "id": "cba18430",
   "metadata": {},
   "source": [
    "Break dan continue adalah keyword yang terdapat pada loop's body yang masing-masing digunakan untuk menghentikan perulangan dan melanjutkan perulangan pada urutan tertentu."
   ]
  },
  {
   "cell_type": "markdown",
   "id": "6a1d3a77",
   "metadata": {},
   "source": [
    "## Break"
   ]
  },
  {
   "cell_type": "code",
   "execution_count": 7,
   "id": "59370d76",
   "metadata": {},
   "outputs": [
    {
     "name": "stdout",
     "output_type": "stream",
     "text": [
      "Inside the loop:  1\n",
      "Inside the loop:  2\n",
      "Inside the loop:  3\n",
      "Inside the loop:  4\n",
      "Outside the loop:  5\n"
     ]
    }
   ],
   "source": [
    "for i in range(1,8):\n",
    "    if i == 5:\n",
    "        break\n",
    "    print(\"Inside the loop: \", i)\n",
    "    \n",
    "print(\"Outside the loop: \", i)"
   ]
  },
  {
   "cell_type": "markdown",
   "id": "470467c4",
   "metadata": {},
   "source": [
    "Pada contoh di atas ketika nilai i bernilai 5 maka perulangan akan dihentikan"
   ]
  },
  {
   "cell_type": "code",
   "execution_count": 1,
   "id": "6049e24a",
   "metadata": {},
   "outputs": [
    {
     "name": "stdout",
     "output_type": "stream",
     "text": [
      "Enter a number or type -1 to end program:10\n",
      "Enter a number or type -1 to end program:20\n",
      "Enter a number or type -1 to end program:-1\n",
      "The largest number is 20\n"
     ]
    }
   ],
   "source": [
    "largest_number = -99999999\n",
    "counter  = 0\n",
    "\n",
    "while True:\n",
    "    number = int(input(\"Enter a number or type -1 to end program:\"))\n",
    "    if number == -1:\n",
    "        break\n",
    "    counter =+ 1\n",
    "    if number > largest_number:\n",
    "        largest_number = number\n",
    "        \n",
    "if counter != 0:\n",
    "    print(\"The largest number is\", largest_number)\n",
    "else:\n",
    "    print(\"You haven't entered any number.\")"
   ]
  },
  {
   "cell_type": "markdown",
   "id": "8c97798d",
   "metadata": {},
   "source": [
    "## Continue"
   ]
  },
  {
   "cell_type": "code",
   "execution_count": 2,
   "id": "545a493f",
   "metadata": {},
   "outputs": [
    {
     "name": "stdout",
     "output_type": "stream",
     "text": [
      "Inside loop:  1\n",
      "Inside loop:  2\n",
      "Inside loop:  3\n",
      "Inside loop:  4\n",
      "Inside loop:  6\n",
      "Inside loop:  7\n",
      "Outside loop  7\n"
     ]
    }
   ],
   "source": [
    "for i in range(1,8):\n",
    "    if i == 5:\n",
    "        continue\n",
    "    print(\"Inside loop: \", i)\n",
    "print(\"Outside loop \", i)"
   ]
  },
  {
   "cell_type": "markdown",
   "id": "3a3c0fc1",
   "metadata": {},
   "source": [
    "Pada contoh di atas ketika i bernilai 5 maka perulangan tersebut akan dilanjutkan ke perulangan berikutnya."
   ]
  },
  {
   "cell_type": "code",
   "execution_count": 10,
   "id": "1bebd1bc",
   "metadata": {},
   "outputs": [
    {
     "name": "stdout",
     "output_type": "stream",
     "text": [
      "Enter a number or type -1 to end programs:10\n",
      "Enter a number or type -1 to end programs:20\n",
      "Enter a number or type -1 to end programs:-1\n",
      "The largest number is 20\n"
     ]
    }
   ],
   "source": [
    "largest_number = -99999999\n",
    "counter = 0\n",
    "\n",
    "number = int(input(\"Enter a number or type -1 to end programs:\"))\n",
    "\n",
    "while number != -1:\n",
    "    if number == -1:\n",
    "        continue\n",
    "    counter =+ 1\n",
    "    \n",
    "    if number > largest_number:\n",
    "        largest_number = number\n",
    "        \n",
    "    number = int(input(\"Enter a number or type -1 to end programs:\"))\n",
    "    \n",
    "if counter:\n",
    "    print(\"The largest number is\", largest_number)\n",
    "else:\n",
    "    print(\"You haven't entered any number\")"
   ]
  },
  {
   "cell_type": "code",
   "execution_count": null,
   "id": "5edc8206",
   "metadata": {},
   "outputs": [],
   "source": []
  }
 ],
 "metadata": {
  "kernelspec": {
   "display_name": "Python 3",
   "language": "python",
   "name": "python3"
  },
  "language_info": {
   "codemirror_mode": {
    "name": "ipython",
    "version": 3
   },
   "file_extension": ".py",
   "mimetype": "text/x-python",
   "name": "python",
   "nbconvert_exporter": "python",
   "pygments_lexer": "ipython3",
   "version": "3.8.5"
  }
 },
 "nbformat": 4,
 "nbformat_minor": 5
}
