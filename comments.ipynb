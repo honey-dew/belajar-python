{
 "cells": [
  {
   "cell_type": "markdown",
   "id": "e599ff44",
   "metadata": {},
   "source": [
    "# Comments"
   ]
  },
  {
   "cell_type": "markdown",
   "id": "e49d19dd",
   "metadata": {},
   "source": [
    "Setiap kata yang ada di dalam program python akan dibaca oleh python sebagai kode. Apabila ingin memasukan kata yang tidak ingin dibaca oleh python maka harus menggunakan comment. Pada python comment adalah teks yang diawali dengan tanda <b>#</b> dan dibaca sampai akhir baris.\n",
    "\n",
    "Comment digunakan untuk memberikan keterangan pada sebuah kode sehingga kode tersebut bisa mudah dipahami oleh orang lain dan juga bisa mudah dipahami kembali apabila lupa."
   ]
  },
  {
   "cell_type": "code",
   "execution_count": 1,
   "id": "364a9d2c",
   "metadata": {},
   "outputs": [
    {
     "name": "stdout",
     "output_type": "stream",
     "text": [
      "10\n"
     ]
    }
   ],
   "source": [
    "x1 = 5\n",
    "x1 += 5\n",
    "print(x1)"
   ]
  },
  {
   "cell_type": "code",
   "execution_count": 2,
   "id": "cce6ca54",
   "metadata": {},
   "outputs": [
    {
     "name": "stdout",
     "output_type": "stream",
     "text": [
      "5\n"
     ]
    }
   ],
   "source": [
    "x2 = 5\n",
    "#x2 += 5\n",
    "print(x2)"
   ]
  },
  {
   "cell_type": "code",
   "execution_count": 3,
   "id": "8d293c66",
   "metadata": {},
   "outputs": [
    {
     "name": "stdout",
     "output_type": "stream",
     "text": [
      "30\n"
     ]
    }
   ],
   "source": [
    "x = 10\n",
    "y = 20\n",
    "z = x + y\n",
    "print(z) # z adalah penjumlahan dari x dan y"
   ]
  },
  {
   "cell_type": "markdown",
   "id": "20c6b720",
   "metadata": {},
   "source": [
    "Jika comment terdiri dari beberapa baris maka setiap baris harus diawali oleh tanda #"
   ]
  },
  {
   "cell_type": "code",
   "execution_count": 4,
   "id": "033649ef",
   "metadata": {},
   "outputs": [
    {
     "name": "stdout",
     "output_type": "stream",
     "text": [
      "10.0\n"
     ]
    }
   ],
   "source": [
    "# kode di bawah ini adalah kode penjumlahan\n",
    "# setelah penjumlahan hasilnya akan dikalikan\n",
    "# dan terakhir hasilnya akan dibagi\n",
    "# z5 = z1 + z2\n",
    "# z5 *= z3\n",
    "# z5 /= z4\n",
    "\n",
    "z1 = 2\n",
    "z2 = 3\n",
    "z3 = 10\n",
    "z4 = 5\n",
    "\n",
    "z5 = z1 + z2\n",
    "z5 *= z3\n",
    "z5 /= z4\n",
    "\n",
    "print(z5)"
   ]
  }
 ],
 "metadata": {
  "kernelspec": {
   "display_name": "Python 3",
   "language": "python",
   "name": "python3"
  },
  "language_info": {
   "codemirror_mode": {
    "name": "ipython",
    "version": 3
   },
   "file_extension": ".py",
   "mimetype": "text/x-python",
   "name": "python",
   "nbconvert_exporter": "python",
   "pygments_lexer": "ipython3",
   "version": "3.8.5"
  }
 },
 "nbformat": 4,
 "nbformat_minor": 5
}
