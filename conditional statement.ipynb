{
 "cells": [
  {
   "cell_type": "markdown",
   "id": "533ff23d",
   "metadata": {},
   "source": [
    "# Conditional Statement"
   ]
  },
  {
   "cell_type": "markdown",
   "id": "c3ec4627",
   "metadata": {},
   "source": [
    "Conditional statement digunakan untuk memilih kondisi-kondisi yang akan dijalankan oleh python. Agar python bisa memilih kondisi-kondisi yang akan dijalankan maka python harus diverikan pertanyaan terlebih dahulu yang jawabannya True atau False, sehingga python bisa menentukan apabila jawaban True harus melakukan apa atau mengeksekusi kode yang mana dan apabila jawaban False harus melakukan apa atau mengeksekusi kode yang mana.\n",
    "\n",
    "Conditional statement pada python kurang lebih bisa dilihat seperti di bawah ini:\n",
    "\n",
    "if true_or_not:<br>\n",
    "&emsp; do_this_if_true\n",
    "    \n",
    "Conditional statement di atas terdiri dari beberapa elemen atau komponen sebagai berikut:\n",
    "\n",
    "- Keyword if\n",
    "- Spasi\n",
    "- Sebuah expression yang akan menghasilkan jawaban True (ketika bernilai bukan 0) dan False(ketika bernilai 0)\n",
    "- Tanda titik dua\n",
    "- Instruksi atau statement yang diberi indentasi di awal\n",
    "\n",
    "Bagaimana python menjalankan conditional statement?\n",
    "\n",
    "- Jika ekspresi true_or_not menghasilkan nilai True maka statement yang diberi indentasi akan dieksekusi atau dijalankan\n",
    "- Jika ekspresi true_or_not tidak menghasilkan True atau dengan kata lain menghasilkan nilai False maka statement yang yang diberi indentasi akan diabaikan"
   ]
  },
  {
   "cell_type": "code",
   "execution_count": 3,
   "id": "51d9b1a9",
   "metadata": {},
   "outputs": [
    {
     "name": "stdout",
     "output_type": "stream",
     "text": [
      "5 lebih besar dari 4\n"
     ]
    }
   ],
   "source": [
    "a = 5\n",
    "b = 4\n",
    "if a > b:\n",
    "    print(str(a) + \" lebih besar dari \" + str(b))"
   ]
  },
  {
   "cell_type": "code",
   "execution_count": 6,
   "id": "c82f2481",
   "metadata": {},
   "outputs": [],
   "source": [
    "if a < b:\n",
    "    print(a, \"lebih kecil dari\", b)"
   ]
  },
  {
   "cell_type": "markdown",
   "id": "1556b7bf",
   "metadata": {},
   "source": [
    "## If Else Statement"
   ]
  },
  {
   "cell_type": "markdown",
   "id": "efeabf6f",
   "metadata": {},
   "source": [
    "Pada contoh sebelumnya mengenai perbandingan angka, python hanya akan mengekseksui statement apabila kondisinya bernilai True dan python tidak melakukan apa-apa ketika kondisi tidak bernilai True. Keyword else pada conditional statement memberikan alternatif pada python apabila kondisi if tidak terpenuhi atau tidak bernilai True maka python akan mengkesekusi statement else.\n",
    "\n",
    "if true_or_not:<br>\n",
    "&emsp; do_this_if_true<br>\n",
    "esle:<br>\n",
    "&emsp; do_this_if_false"
   ]
  },
  {
   "cell_type": "code",
   "execution_count": 8,
   "id": "5088067c",
   "metadata": {},
   "outputs": [
    {
     "name": "stdout",
     "output_type": "stream",
     "text": [
      "5 lebih besar dari 4\n"
     ]
    }
   ],
   "source": [
    "if a < b:\n",
    "    print(a, \"lebih kecil dari\", b)\n",
    "else:\n",
    "    print(a, \"lebih besar dari\", b)"
   ]
  },
  {
   "cell_type": "markdown",
   "id": "5dd1f7d5",
   "metadata": {},
   "source": [
    "## Nested If Else Statement"
   ]
  },
  {
   "cell_type": "markdown",
   "id": "fbc578f8",
   "metadata": {},
   "source": [
    "Nested if yaitu kondisi dimana di dalan sebuah statement if terdapat statement if kembali."
   ]
  },
  {
   "cell_type": "code",
   "execution_count": 10,
   "id": "1593bf5c",
   "metadata": {},
   "outputs": [
    {
     "name": "stdout",
     "output_type": "stream",
     "text": [
      "5 lebih besar dari 4\n",
      "selisih 5 dan 4 kurang dari 2\n"
     ]
    }
   ],
   "source": [
    "if a > b:\n",
    "    if a - b < 2:\n",
    "        print(a, \"lebih besar dari\", b)\n",
    "        print(\"selisih\", a, \"dan\", b, \"kurang dari 2\" )\n",
    "    else:\n",
    "        print(a, \"lebih besar dari\", b)\n",
    "        print(\"selisih\", a, \"dan\", b, \"lebih dari 2\" )\n",
    "else:\n",
    "    if b - a < 2:\n",
    "        print(b, \"lebih besar dari\", a)\n",
    "        print(\"selisih\", b, \"dan\", a, \"kurang dari 2\" )\n",
    "    else:\n",
    "        print(b, \"lebih besar dari\", a)\n",
    "        print(\"selisih\", b, \"dan\", a, \"lebih dari 2\" )"
   ]
  },
  {
   "cell_type": "markdown",
   "id": "f7643756",
   "metadata": {},
   "source": [
    "## Elif Statement"
   ]
  },
  {
   "cell_type": "markdown",
   "id": "eb8f906a",
   "metadata": {},
   "source": [
    "Elif statement memberikan pilihan pada python apabila terdapat lebih dari satu kondisi dan akan berhenti apabila terdapat kondisi yang terpenuhi."
   ]
  },
  {
   "cell_type": "code",
   "execution_count": 11,
   "id": "460c4b10",
   "metadata": {},
   "outputs": [
    {
     "name": "stdout",
     "output_type": "stream",
     "text": [
      "100 sama dengan 100\n"
     ]
    }
   ],
   "source": [
    "x = 100\n",
    "y = 100\n",
    "\n",
    "if x > y:\n",
    "    print(x, \"lebih besar dari\", y)\n",
    "elif x == y:\n",
    "    print(x, \"sama dengan\", y)\n",
    "else:\n",
    "    print(x, \"lebih kecil dari\", y)"
   ]
  },
  {
   "cell_type": "markdown",
   "id": "6bd8404d",
   "metadata": {},
   "source": [
    "Beberapa yang harus diperhatikan pada conditional statement:\n",
    "\n",
    "- Statement else harus didahului oleh statement if\n",
    "- Statement else selalu menjadi pilihan yang terakhir\n",
    "- Statement else bersifat opsional bisa digunakan atau apabila tidak perlu maka tidak perlu digunakan\n",
    "- Statement elif digunakan apabila pada conditional statement terdapat beberapa kondisi"
   ]
  }
 ],
 "metadata": {
  "kernelspec": {
   "display_name": "Python 3",
   "language": "python",
   "name": "python3"
  },
  "language_info": {
   "codemirror_mode": {
    "name": "ipython",
    "version": 3
   },
   "file_extension": ".py",
   "mimetype": "text/x-python",
   "name": "python",
   "nbconvert_exporter": "python",
   "pygments_lexer": "ipython3",
   "version": "3.8.5"
  }
 },
 "nbformat": 4,
 "nbformat_minor": 5
}
