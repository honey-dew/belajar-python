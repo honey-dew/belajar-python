{
 "cells": [
  {
   "cell_type": "markdown",
   "id": "1fc183ca",
   "metadata": {},
   "source": [
    "# Hello World"
   ]
  },
  {
   "cell_type": "code",
   "execution_count": 1,
   "id": "a9b8dc8b",
   "metadata": {},
   "outputs": [
    {
     "name": "stdout",
     "output_type": "stream",
     "text": [
      "hello world\n"
     ]
    }
   ],
   "source": [
    "print(\"hello world\")"
   ]
  },
  {
   "cell_type": "markdown",
   "id": "9f919313",
   "metadata": {},
   "source": [
    "Fungsi print(\"hello world\") terdiri dari beberapa komponen yaitu:\n",
    "\n",
    "- Keyword print\n",
    "- Tanda kurung buka\n",
    "- Tulisan hello world yang diapit oleh tanda kutip\n",
    "- Tanda kurung tutup\n",
    "\n",
    "<br>\n",
    "\n",
    "- Keyword <b>print</b> adalah fungsi bawaan dari python yang digunakan untuk menampilkan value ke output device atau layar.\n",
    "- Tanda kurung digunakan untuk memasukan argumen atau value. Fungsi print() bisa menerima lebih dari satu argumen yang dipisahkan dengan tanda koma atau tanpa argumen dan dapat menerima tipe data seperti strings, numbers, characters, logical values, objects."
   ]
  },
  {
   "cell_type": "code",
   "execution_count": 3,
   "id": "069d36c0",
   "metadata": {},
   "outputs": [
    {
     "name": "stdout",
     "output_type": "stream",
     "text": [
      "hello python hi python\n"
     ]
    }
   ],
   "source": [
    "print(\"hello python\", \"hi python\")"
   ]
  },
  {
   "cell_type": "code",
   "execution_count": 4,
   "id": "6c24c999",
   "metadata": {},
   "outputs": [
    {
     "name": "stdout",
     "output_type": "stream",
     "text": [
      "\n"
     ]
    }
   ],
   "source": [
    "print()"
   ]
  },
  {
   "cell_type": "code",
   "execution_count": 5,
   "id": "2fbb4c16",
   "metadata": {},
   "outputs": [
    {
     "name": "stdout",
     "output_type": "stream",
     "text": [
      "100\n"
     ]
    }
   ],
   "source": [
    "print(100)"
   ]
  },
  {
   "cell_type": "code",
   "execution_count": 6,
   "id": "154d4cef",
   "metadata": {
    "scrolled": true
   },
   "outputs": [
    {
     "name": "stdout",
     "output_type": "stream",
     "text": [
      "hello world\n",
      "hi python\n"
     ]
    }
   ],
   "source": [
    "print(\"hello world\")\n",
    "print(\"hi python\")"
   ]
  },
  {
   "cell_type": "code",
   "execution_count": null,
   "id": "0f4d7e7e",
   "metadata": {},
   "outputs": [],
   "source": [
    "print(\"hello world\")\n",
    "print()\n",
    "print(\"hi python\")"
   ]
  },
  {
   "cell_type": "markdown",
   "id": "f9ce1d51",
   "metadata": {},
   "source": [
    "Fungsi print() secara default diakhiri dengan karakter new line atau enter (\"\\n\") yang merupakan value dari parameter end. Apabila nilai dari parameter end diubah misal menjadi karakter tab (\"\\t\") maka hasilnya akan seperti berikut ini:"
   ]
  },
  {
   "cell_type": "code",
   "execution_count": 9,
   "id": "13c00cf4",
   "metadata": {},
   "outputs": [
    {
     "name": "stdout",
     "output_type": "stream",
     "text": [
      "hello world\thi python\n"
     ]
    }
   ],
   "source": [
    "print(\"hello world\", end=\"\\t\")\n",
    "print(\"hi python\")"
   ]
  },
  {
   "cell_type": "markdown",
   "id": "2c207828",
   "metadata": {},
   "source": [
    "Selain terdapat parameter end, pada fungsi print() juga terdapat parameter lain yaitu sep. parameter sep ini digunakan untuk memisahkan value apabila lebih dari satu argumen. Nilai default dari parameter sep adalah spasi (\" \")."
   ]
  },
  {
   "cell_type": "code",
   "execution_count": 11,
   "id": "36a8a961",
   "metadata": {},
   "outputs": [
    {
     "name": "stdout",
     "output_type": "stream",
     "text": [
      "hello world--hi python\n"
     ]
    }
   ],
   "source": [
    "print(\"hello world\", \"hi python\", sep=\"--\")"
   ]
  }
 ],
 "metadata": {
  "kernelspec": {
   "display_name": "Python 3",
   "language": "python",
   "name": "python3"
  },
  "language_info": {
   "codemirror_mode": {
    "name": "ipython",
    "version": 3
   },
   "file_extension": ".py",
   "mimetype": "text/x-python",
   "name": "python",
   "nbconvert_exporter": "python",
   "pygments_lexer": "ipython3",
   "version": "3.8.5"
  }
 },
 "nbformat": 4,
 "nbformat_minor": 5
}
