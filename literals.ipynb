{
 "cells": [
  {
   "cell_type": "markdown",
   "id": "3ac003aa",
   "metadata": {},
   "source": [
    "# Literals"
   ]
  },
  {
   "cell_type": "markdown",
   "id": "dfd165e3",
   "metadata": {},
   "source": [
    "Literal adalah data yang mempresentasikan dari nilai itu sendiri. Apabila dicontohkan yaitu:\n",
    "\n",
    "123\n",
    "\n",
    "Digit di atas akan direpresentasikan sebagai seratus dua puluh tiga, data tersebut dapat merepresentasikan nilai itu sendiri sehingga bisa disebut sebagai literals.\n",
    "\n",
    "r\n",
    "\n",
    "huruf r di atas bisa direpresentasikan sebagai huruf r, tetapi huruf r tersebut juga bisa direpresentasikan sebagai simbol dari jari-jari dalam matematika. Sehingga hruf r di atas tidak bisa disebut sebagai literals."
   ]
  },
  {
   "cell_type": "markdown",
   "id": "2e492f5a",
   "metadata": {},
   "source": [
    "Sampai saat ini terdapat dua tipe literal yang berbeda:\n",
    "\n",
    "- String\n",
    "- Numeric\n",
    "\n",
    "Seperti yang telah diketahui string dalam python harus diapit oleh tanda kutip, sedangkan numeric adalah berupa bilangan angka. Perhatikan contoh di bawah ini:"
   ]
  },
  {
   "cell_type": "code",
   "execution_count": 1,
   "id": "808468c8",
   "metadata": {},
   "outputs": [
    {
     "name": "stdout",
     "output_type": "stream",
     "text": [
      "2\n",
      "2\n"
     ]
    }
   ],
   "source": [
    "print(\"2\")\n",
    "print(2)"
   ]
  },
  {
   "cell_type": "markdown",
   "id": "21f5cc08",
   "metadata": {},
   "source": [
    "Dari fungsi print() di atas keduanya mengasilkan output yang sama. Namun sebenarnya kedua output tersebut adalah berbeda. Pada fungsi print() yang pertama walaupun menghasilkan output angka 2(dua) tetapi python akan merepresentasikannya sebagai string literals karena angka dua pada argumen tersebut diapit oleh tanda kutip.\n",
    "Selanjutnya pada fungsi print() yang kedua akan direpresentasikan sebagai numeric literals oleh python. "
   ]
  },
  {
   "cell_type": "code",
   "execution_count": 3,
   "id": "dd93586e",
   "metadata": {},
   "outputs": [
    {
     "name": "stdout",
     "output_type": "stream",
     "text": [
      "<class 'str'>\n",
      "<class 'int'>\n"
     ]
    }
   ],
   "source": [
    "print(type(\"2\"))\n",
    "print(type(2))"
   ]
  },
  {
   "cell_type": "markdown",
   "id": "cc031485",
   "metadata": {},
   "source": [
    "## Integer"
   ]
  },
  {
   "cell_type": "markdown",
   "id": "55ab9882",
   "metadata": {},
   "source": [
    "Integer adalah angka bilangan bulat."
   ]
  },
  {
   "cell_type": "code",
   "execution_count": 8,
   "id": "910609cb",
   "metadata": {},
   "outputs": [
    {
     "name": "stdout",
     "output_type": "stream",
     "text": [
      "234\n"
     ]
    }
   ],
   "source": [
    "print(234)"
   ]
  },
  {
   "cell_type": "code",
   "execution_count": 14,
   "id": "159cde8a",
   "metadata": {},
   "outputs": [
    {
     "data": {
      "text/plain": [
       "int"
      ]
     },
     "execution_count": 14,
     "metadata": {},
     "output_type": "execute_result"
    }
   ],
   "source": [
    "type(234)"
   ]
  },
  {
   "cell_type": "code",
   "execution_count": 4,
   "id": "c1702f47",
   "metadata": {},
   "outputs": [
    {
     "name": "stdout",
     "output_type": "stream",
     "text": [
      "1000000\n"
     ]
    }
   ],
   "source": [
    "print(1000000)"
   ]
  },
  {
   "cell_type": "code",
   "execution_count": 5,
   "id": "2c865975",
   "metadata": {},
   "outputs": [
    {
     "name": "stdout",
     "output_type": "stream",
     "text": [
      "1000000\n"
     ]
    }
   ],
   "source": [
    "print(1_000_000)"
   ]
  },
  {
   "cell_type": "markdown",
   "id": "cba8f3e9",
   "metadata": {},
   "source": [
    "Jika integer didahului oleh karakter 0O atau 0o, maka akan diperlakukan sebagai nilai oktal."
   ]
  },
  {
   "cell_type": "code",
   "execution_count": 3,
   "id": "f778978b",
   "metadata": {},
   "outputs": [
    {
     "name": "stdout",
     "output_type": "stream",
     "text": [
      "156\n"
     ]
    }
   ],
   "source": [
    "print(0o234)"
   ]
  },
  {
   "cell_type": "code",
   "execution_count": 12,
   "id": "8ff94b8b",
   "metadata": {},
   "outputs": [
    {
     "data": {
      "text/plain": [
       "int"
      ]
     },
     "execution_count": 12,
     "metadata": {},
     "output_type": "execute_result"
    }
   ],
   "source": [
    "type(0o234)"
   ]
  },
  {
   "cell_type": "markdown",
   "id": "5f3deffe",
   "metadata": {},
   "source": [
    "Jika integer didahului oleh karakter 0X atau 0x, maka akan diperlakukan sebagai nilai hexadesimal."
   ]
  },
  {
   "cell_type": "code",
   "execution_count": 7,
   "id": "65be6e88",
   "metadata": {
    "scrolled": true
   },
   "outputs": [
    {
     "name": "stdout",
     "output_type": "stream",
     "text": [
      "564\n"
     ]
    }
   ],
   "source": [
    "print(0x234)"
   ]
  },
  {
   "cell_type": "code",
   "execution_count": 13,
   "id": "6e4b8ad6",
   "metadata": {},
   "outputs": [
    {
     "data": {
      "text/plain": [
       "int"
      ]
     },
     "execution_count": 13,
     "metadata": {},
     "output_type": "execute_result"
    }
   ],
   "source": [
    "type(0x234)"
   ]
  },
  {
   "cell_type": "markdown",
   "id": "6a2f464f",
   "metadata": {},
   "source": [
    "## Float"
   ]
  },
  {
   "cell_type": "markdown",
   "id": "a4f51ae5",
   "metadata": {},
   "source": [
    "Float adalah angka bilangan pecahan. Untuk membuat bilangan pecahan harus menggunakan titik dan bukan koma."
   ]
  },
  {
   "cell_type": "code",
   "execution_count": 9,
   "id": "f2e757e9",
   "metadata": {},
   "outputs": [
    {
     "name": "stdout",
     "output_type": "stream",
     "text": [
      "10.5\n"
     ]
    }
   ],
   "source": [
    "print(10.5)"
   ]
  },
  {
   "cell_type": "code",
   "execution_count": 10,
   "id": "aedf4885",
   "metadata": {},
   "outputs": [
    {
     "data": {
      "text/plain": [
       "float"
      ]
     },
     "execution_count": 10,
     "metadata": {},
     "output_type": "execute_result"
    }
   ],
   "source": [
    "type(10.5)"
   ]
  },
  {
   "cell_type": "code",
   "execution_count": 15,
   "id": "325ece38",
   "metadata": {},
   "outputs": [
    {
     "name": "stdout",
     "output_type": "stream",
     "text": [
      "0.5\n"
     ]
    }
   ],
   "source": [
    "print(0.5)"
   ]
  },
  {
   "cell_type": "code",
   "execution_count": 16,
   "id": "e12b9140",
   "metadata": {},
   "outputs": [
    {
     "name": "stdout",
     "output_type": "stream",
     "text": [
      "0.5\n"
     ]
    }
   ],
   "source": [
    "print(.5)"
   ]
  },
  {
   "cell_type": "markdown",
   "id": "dbc03fcd",
   "metadata": {},
   "source": [
    "### Scientific Notation"
   ]
  },
  {
   "cell_type": "markdown",
   "id": "338a5a8f",
   "metadata": {},
   "source": [
    "Untuk membuat float juga bisa menggunakan huruf E atau e"
   ]
  },
  {
   "cell_type": "code",
   "execution_count": 17,
   "id": "2765fbd3",
   "metadata": {},
   "outputs": [
    {
     "name": "stdout",
     "output_type": "stream",
     "text": [
      "1000000.0\n"
     ]
    }
   ],
   "source": [
    "print(1e6)"
   ]
  },
  {
   "cell_type": "code",
   "execution_count": 18,
   "id": "2ac0b97f",
   "metadata": {},
   "outputs": [
    {
     "data": {
      "text/plain": [
       "float"
      ]
     },
     "execution_count": 18,
     "metadata": {},
     "output_type": "execute_result"
    }
   ],
   "source": [
    "type(1E6)"
   ]
  },
  {
   "cell_type": "code",
   "execution_count": null,
   "id": "c5f5968e",
   "metadata": {},
   "outputs": [],
   "source": [
    "Huruf E atau e berasal dari kata exponensial\n",
    "\n",
    "Note:\n",
    "    \n",
    "    - Nilai setelah huruf E harus integer\n",
    "    - Nilai sebelum huruf E tidak harus integer"
   ]
  },
  {
   "cell_type": "code",
   "execution_count": 19,
   "id": "b4cd87dd",
   "metadata": {},
   "outputs": [
    {
     "name": "stdout",
     "output_type": "stream",
     "text": [
      "1500000.0\n"
     ]
    }
   ],
   "source": [
    "print(1.5E6)"
   ]
  },
  {
   "cell_type": "code",
   "execution_count": 22,
   "id": "5f35c130",
   "metadata": {},
   "outputs": [
    {
     "name": "stdout",
     "output_type": "stream",
     "text": [
      "-1500000.0\n"
     ]
    }
   ],
   "source": [
    "print(-1.5E6)"
   ]
  },
  {
   "cell_type": "code",
   "execution_count": 24,
   "id": "178885a3",
   "metadata": {},
   "outputs": [
    {
     "name": "stdout",
     "output_type": "stream",
     "text": [
      "1e-22\n"
     ]
    }
   ],
   "source": [
    "print(0.0000000000000000000001)"
   ]
  },
  {
   "cell_type": "markdown",
   "id": "f5169eb2",
   "metadata": {},
   "source": [
    "## String"
   ]
  },
  {
   "cell_type": "markdown",
   "id": "4cd2108c",
   "metadata": {},
   "source": [
    "String digunakan ketika akan memproses data teks. Untuk membuat string, teks harus diapit oleh tanda kutip (bisa kutip satu atau kutip dua)."
   ]
  },
  {
   "cell_type": "code",
   "execution_count": 25,
   "id": "a984710a",
   "metadata": {},
   "outputs": [
    {
     "name": "stdout",
     "output_type": "stream",
     "text": [
      "hello\n"
     ]
    }
   ],
   "source": [
    "print(\"hello\")"
   ]
  },
  {
   "cell_type": "code",
   "execution_count": 26,
   "id": "3314ace7",
   "metadata": {},
   "outputs": [
    {
     "name": "stdout",
     "output_type": "stream",
     "text": [
      "hi\n"
     ]
    }
   ],
   "source": [
    "print('hi')"
   ]
  },
  {
   "cell_type": "markdown",
   "id": "e0cf5a66",
   "metadata": {},
   "source": [
    "Apabila ingin membuat teks dengan tanda kutip bisa dilakukan dengan cara berikut ini:"
   ]
  },
  {
   "cell_type": "code",
   "execution_count": 27,
   "id": "69fa3084",
   "metadata": {},
   "outputs": [
    {
     "name": "stdout",
     "output_type": "stream",
     "text": [
      "hello, 'my name is python'\n"
     ]
    }
   ],
   "source": [
    "print(\"hello, 'my name is python'\")"
   ]
  },
  {
   "cell_type": "code",
   "execution_count": 28,
   "id": "95457ec3",
   "metadata": {},
   "outputs": [
    {
     "name": "stdout",
     "output_type": "stream",
     "text": [
      "hello, \"my name is python\"\n"
     ]
    }
   ],
   "source": [
    "print('hello, \"my name is python\"')"
   ]
  },
  {
   "cell_type": "code",
   "execution_count": 29,
   "id": "da128cc8",
   "metadata": {},
   "outputs": [
    {
     "name": "stdout",
     "output_type": "stream",
     "text": [
      "hello, \"my name is python\"\n"
     ]
    }
   ],
   "source": [
    "print(\"hello, \\\"my name is python\\\"\")"
   ]
  },
  {
   "cell_type": "code",
   "execution_count": 30,
   "id": "97aac0f5",
   "metadata": {},
   "outputs": [
    {
     "name": "stdout",
     "output_type": "stream",
     "text": [
      "hello, 'my name is python'\n"
     ]
    }
   ],
   "source": [
    "print('hello, \\'my name is python\\'')"
   ]
  },
  {
   "cell_type": "markdown",
   "id": "e7f17721",
   "metadata": {},
   "source": [
    "Sebuah string bisa bernilai kosong misalnya seperti ini:"
   ]
  },
  {
   "cell_type": "code",
   "execution_count": 31,
   "id": "3e983eec",
   "metadata": {},
   "outputs": [
    {
     "name": "stdout",
     "output_type": "stream",
     "text": [
      "\n"
     ]
    }
   ],
   "source": [
    "print(\"\")"
   ]
  },
  {
   "cell_type": "code",
   "execution_count": 33,
   "id": "884d4cb6",
   "metadata": {},
   "outputs": [
    {
     "name": "stdout",
     "output_type": "stream",
     "text": [
      "\n"
     ]
    }
   ],
   "source": [
    "print('')"
   ]
  },
  {
   "cell_type": "code",
   "execution_count": 34,
   "id": "4a3f6b5f",
   "metadata": {},
   "outputs": [
    {
     "data": {
      "text/plain": [
       "str"
      ]
     },
     "execution_count": 34,
     "metadata": {},
     "output_type": "execute_result"
    }
   ],
   "source": [
    "type('')"
   ]
  },
  {
   "cell_type": "markdown",
   "id": "74acb2aa",
   "metadata": {},
   "source": [
    "Jika ingin membuat string langsung beberapa baris bisa menggunakan tanda kutip sebanyak tiga kali."
   ]
  },
  {
   "cell_type": "code",
   "execution_count": 35,
   "id": "dd587c5c",
   "metadata": {},
   "outputs": [
    {
     "name": "stdout",
     "output_type": "stream",
     "text": [
      "hello\n",
      "my name is\n",
      "python\n"
     ]
    }
   ],
   "source": [
    "print(\"\"\"hello\n",
    "my name is\n",
    "python\"\"\")"
   ]
  },
  {
   "cell_type": "code",
   "execution_count": 36,
   "id": "47b39702",
   "metadata": {},
   "outputs": [
    {
     "name": "stdout",
     "output_type": "stream",
     "text": [
      "hello\n",
      "my name is\n",
      "python\n"
     ]
    }
   ],
   "source": [
    "print('''hello\n",
    "my name is\n",
    "python''')"
   ]
  },
  {
   "cell_type": "code",
   "execution_count": 45,
   "id": "49f18fd6",
   "metadata": {},
   "outputs": [
    {
     "name": "stdout",
     "output_type": "stream",
     "text": [
      "\n",
      "\"I'm\"\n",
      "\"\"learning\"\"\n",
      "\"\"\"Python\"\"\"\n",
      "\n"
     ]
    }
   ],
   "source": [
    "print(\"\"\"\n",
    "\\\"I'm\\\"\n",
    "\\\"\\\"learning\\\"\\\"\n",
    "\\\"\\\"\\\"Python\\\"\\\"\\\"\n",
    "\"\"\")"
   ]
  },
  {
   "cell_type": "markdown",
   "id": "4a5d1416",
   "metadata": {},
   "source": [
    "## Boolean"
   ]
  },
  {
   "cell_type": "markdown",
   "id": "af5d9f90",
   "metadata": {},
   "source": [
    "Boolean literal hanya menggunakan dua nilai yang berbeda yaitu <b>True</b> dan <b>False</b>. True bisa disimbolkan dengan angka 1, dan False bisa disimbolkan dengan angka 0."
   ]
  },
  {
   "cell_type": "code",
   "execution_count": 37,
   "id": "48358f28",
   "metadata": {},
   "outputs": [
    {
     "name": "stdout",
     "output_type": "stream",
     "text": [
      "True\n"
     ]
    }
   ],
   "source": [
    "print(5 > 1)"
   ]
  },
  {
   "cell_type": "code",
   "execution_count": 38,
   "id": "1b9d9182",
   "metadata": {},
   "outputs": [
    {
     "data": {
      "text/plain": [
       "bool"
      ]
     },
     "execution_count": 38,
     "metadata": {},
     "output_type": "execute_result"
    }
   ],
   "source": [
    "type(5 > 1)"
   ]
  },
  {
   "cell_type": "code",
   "execution_count": 39,
   "id": "bf662a60",
   "metadata": {},
   "outputs": [
    {
     "name": "stdout",
     "output_type": "stream",
     "text": [
      "False\n"
     ]
    }
   ],
   "source": [
    "print(100 > 1000)"
   ]
  },
  {
   "cell_type": "code",
   "execution_count": 40,
   "id": "825fd9b1",
   "metadata": {},
   "outputs": [
    {
     "name": "stdout",
     "output_type": "stream",
     "text": [
      "False\n"
     ]
    }
   ],
   "source": [
    "print(2 == \"2\")"
   ]
  },
  {
   "cell_type": "code",
   "execution_count": 41,
   "id": "f3019c63",
   "metadata": {},
   "outputs": [
    {
     "name": "stdout",
     "output_type": "stream",
     "text": [
      "True\n"
     ]
    }
   ],
   "source": [
    "print( 2 == 2)"
   ]
  },
  {
   "cell_type": "code",
   "execution_count": 42,
   "id": "e787ea8a",
   "metadata": {},
   "outputs": [
    {
     "name": "stdout",
     "output_type": "stream",
     "text": [
      "True\n"
     ]
    }
   ],
   "source": [
    "print(True == 1)"
   ]
  },
  {
   "cell_type": "code",
   "execution_count": 43,
   "id": "7ef23bc4",
   "metadata": {},
   "outputs": [
    {
     "name": "stdout",
     "output_type": "stream",
     "text": [
      "True\n"
     ]
    }
   ],
   "source": [
    "print(False == 0)"
   ]
  },
  {
   "cell_type": "code",
   "execution_count": 44,
   "id": "06533f5c",
   "metadata": {},
   "outputs": [
    {
     "name": "stdout",
     "output_type": "stream",
     "text": [
      "True\n"
     ]
    }
   ],
   "source": [
    "print(True > False)"
   ]
  },
  {
   "cell_type": "markdown",
   "id": "e9475067",
   "metadata": {},
   "source": [
    "## NoneType"
   ]
  },
  {
   "cell_type": "markdown",
   "id": "f0e3298d",
   "metadata": {},
   "source": [
    "None merupakan literal khusus yang digunakan oleh python untuk merepresentasikan ketidakadaan suatu nilai."
   ]
  },
  {
   "cell_type": "code",
   "execution_count": 46,
   "id": "3bd683ab",
   "metadata": {},
   "outputs": [
    {
     "name": "stdout",
     "output_type": "stream",
     "text": [
      "None\n"
     ]
    }
   ],
   "source": [
    "print(None)"
   ]
  },
  {
   "cell_type": "code",
   "execution_count": 47,
   "id": "d6ce4b5c",
   "metadata": {},
   "outputs": [
    {
     "name": "stdout",
     "output_type": "stream",
     "text": [
      "<class 'NoneType'>\n"
     ]
    }
   ],
   "source": [
    "print(type(None))"
   ]
  }
 ],
 "metadata": {
  "kernelspec": {
   "display_name": "Python 3",
   "language": "python",
   "name": "python3"
  },
  "language_info": {
   "codemirror_mode": {
    "name": "ipython",
    "version": 3
   },
   "file_extension": ".py",
   "mimetype": "text/x-python",
   "name": "python",
   "nbconvert_exporter": "python",
   "pygments_lexer": "ipython3",
   "version": "3.8.5"
  }
 },
 "nbformat": 4,
 "nbformat_minor": 5
}
