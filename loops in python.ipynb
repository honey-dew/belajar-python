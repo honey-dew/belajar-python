{
 "cells": [
  {
   "cell_type": "markdown",
   "id": "ef8d8453",
   "metadata": {},
   "source": [
    "# Loops in Python"
   ]
  },
  {
   "cell_type": "markdown",
   "id": "74de3ca6",
   "metadata": {},
   "source": [
    "Loop atau perulangan pada python bisa dilakukan dengan menggunakan <b>while loop</b> atau <b>for loop</b>."
   ]
  },
  {
   "cell_type": "markdown",
   "id": "190e4f24",
   "metadata": {},
   "source": [
    "## While Loop"
   ]
  },
  {
   "cell_type": "markdown",
   "id": "6d84dfa1",
   "metadata": {},
   "source": [
    "Secara umum while loop bisa direpresentasikan sebagai berikut:\n",
    "\n",
    "\n",
    "while conditional_expression:<br>\n",
    "&emsp; instruction\n",
    "\n",
    "\n",
    "Jika diperhatikan sintaks di atas mirip dengan sintaks if statement, yang membedakan hanya keyword if dan keyword while.\n",
    "\n",
    "Secara semantik if hanya menjalankan statement satu kali, sedangkan while akan menjalankan statement terus menerus atau berulang selama kondisi bernilai True.\n",
    "\n",
    "Indentasi yang ada pada if juga berlakuk pada while.\n",
    "\n",
    "Hal yang perlu diingat:\n",
    "\n",
    "- Jika terdapat lebih dari satu statement dalam satu while loop, maka semua statement tersebut diberi indentasi yang sama.\n",
    "\n",
    "- Statement yang dieksekusi di dalam while loop disebut <b>loop's body</b>\n",
    "- Jika kondisi bernilai False (atau nol) maka loop's body tidak akan dieksekusi\n",
    "- Loop's body harus mampu merubah kondisi while loop, karena apabila kondisinya selalu bernilai True maka loop's body akan dieksekusi secara terus menerus dan tidak akan berhenti atau disebut juga <b>endless loop</b>.\n",
    "\n",
    "Endless loop bisa dihentikan dengan menekan <b>ctrl-c</b> (KeyboardInterrupt)."
   ]
  },
  {
   "cell_type": "code",
   "execution_count": 4,
   "id": "0bac960a",
   "metadata": {},
   "outputs": [
    {
     "name": "stdout",
     "output_type": "stream",
     "text": [
      "Masukan angka atau ketik -1 untuk berhenti: 36487364\n",
      "Masukan angka atau ketik -1 untuk berhenti: 34734\n",
      "Masukan angka atau ketik -1 untuk berhenti: 3473\n",
      "Masukan angka atau ketik -1 untuk berhenti: 7364\n",
      "Masukan angka atau ketik -1 untuk berhenti: -1\n",
      "Nomor terbesar adalah:  36487364\n"
     ]
    }
   ],
   "source": [
    "# menyimpan nomor terbesar\n",
    "nomor_terbesar = -9999999999\n",
    "\n",
    "# menginput nomor untuk dibandingkan dengan nomor terbesar\n",
    "nomor = int(input(\"Masukan angka atau ketik -1 untuk berhenti: \"))\n",
    "\n",
    "# jika nomor bukan -1, program akan terus jalan\n",
    "\n",
    "while nomor != -1:\n",
    "    if nomor > nomor_terbesar:\n",
    "        # mengupdate nomor terbesar\n",
    "        nomor_terbesar = nomor\n",
    "        \n",
    "    # menginput nomor kembali\n",
    "    nomor = int(input(\"Masukan angka atau ketik -1 untuk berhenti: \"))\n",
    "        \n",
    "# print nomor terbesar\n",
    "print(\"Nomor terbesar adalah: \", nomor_terbesar)"
   ]
  },
  {
   "cell_type": "code",
   "execution_count": 1,
   "id": "74ca2516",
   "metadata": {},
   "outputs": [
    {
     "name": "stdout",
     "output_type": "stream",
     "text": [
      "Masukan angka atau ketik 0 untuk berhenti: 3\n",
      "Masukan angka atau ketik 0 untuk berhenti: 4\n",
      "Masukan angka atau ketik 0 untuk berhenti: 5\n",
      "Masukan angka atau ketik 0 untuk berhenti: 0\n",
      "Jumlah nomor ganjil:  2\n",
      "Jumlha nomor genap:  1\n"
     ]
    }
   ],
   "source": [
    "nomor_ganjil = 0\n",
    "nomor_genap = 0\n",
    "\n",
    "nomor = int(input(\"Masukan angka atau ketik 0 untuk berhenti: \"))\n",
    "\n",
    "while nomor != 0:\n",
    "    if nomor % 2 == 1:\n",
    "        nomor_ganjil += 1\n",
    "    else:\n",
    "        nomor_genap += 1\n",
    "        \n",
    "    nomor = int(input(\"Masukan angka atau ketik 0 untuk berhenti: \"))\n",
    "    \n",
    "print(\"Jumlah nomor ganjil: \", nomor_ganjil)\n",
    "print(\"Jumlha nomor genap: \", nomor_genap)"
   ]
  },
  {
   "cell_type": "code",
   "execution_count": 2,
   "id": "da1df2ad",
   "metadata": {},
   "outputs": [
    {
     "name": "stdout",
     "output_type": "stream",
     "text": [
      "Inside loop 5\n",
      "Inside loop 4\n",
      "Inside loop 3\n",
      "Inside loop 2\n",
      "Inside loop 1\n",
      "Outside loop 0\n"
     ]
    }
   ],
   "source": [
    "counter = 5\n",
    "\n",
    "while counter != 0:\n",
    "    print(\"Inside loop\", counter)\n",
    "    counter -= 1\n",
    "    \n",
    "print(\"Outside loop\", counter)"
   ]
  },
  {
   "cell_type": "code",
   "execution_count": 1,
   "id": "0b7bc9d8",
   "metadata": {},
   "outputs": [
    {
     "name": "stdout",
     "output_type": "stream",
     "text": [
      "number 0\n",
      "number 1\n",
      "number 2\n",
      "number 3\n",
      "number 4\n",
      "number 5\n",
      "number 6\n",
      "number 7\n",
      "number 8\n",
      "number 9\n"
     ]
    }
   ],
   "source": [
    "i = 0\n",
    "while i < 10:\n",
    "    print(\"number\", i)\n",
    "    i += 1"
   ]
  },
  {
   "cell_type": "markdown",
   "id": "7a2ede25",
   "metadata": {},
   "source": [
    "## For Loop"
   ]
  },
  {
   "cell_type": "markdown",
   "id": "3edaf810",
   "metadata": {},
   "source": [
    "For loop adalah jenis perulangan di python yang tersedia selain while loop. For loop bisa menjelajah koleksi data yang besar satu per satu. Berikut adalah contoh sintaks for loop:\n",
    "\n",
    "for i in range(10):<br>\n",
    "&emsp;# do_something<br>\n",
    "&emsp;pass\n",
    "\n",
    "Komponen-komponen yang ada pada sintaks di atas:\n",
    "\n",
    "- Keyword for digunakan untuk melakukan perulangan dengan menggunakan for loop. Tidak ada kondisi setelah keyword for ini karena for loop akan mengecek secara internal.\n",
    "- Setiap variabel setelah keyword for adalah <b>control variable</b>. Variabel tersebut yang akan digunakan untuk menjelajah item yang ada pada koleksi data secara otomatis\n",
    "- Keyword in menggambarkan kemungkinan jangkauan nilai yang disimpan pada control variable\n",
    "- Fungsi range() digunakan untuk menghasilkan serangkaian nilai yang diinginkan dari control variable. Fungsi range() dimulai dari nol dan selesai satu step sebelum nilai pada argumen yang dimasukan\n",
    "- Keyword pass digunakan hanya untuk contoh saja, keyword tersebut tidak melakukan apa-apa dan itu hanya sebuah instruksi yang kosong karena dalam perulangan for loop setidaknya memerlukan satu instruksi (hal ini juga berlaku pada if, elif, else, dan while)"
   ]
  },
  {
   "cell_type": "code",
   "execution_count": 3,
   "id": "642029e8",
   "metadata": {},
   "outputs": [
    {
     "name": "stdout",
     "output_type": "stream",
     "text": [
      "Number 0\n",
      "Number 1\n",
      "Number 2\n",
      "Number 3\n",
      "Number 4\n",
      "Number 5\n",
      "Number 6\n",
      "Number 7\n",
      "Number 8\n",
      "Number 9\n"
     ]
    }
   ],
   "source": [
    "for i in range(10):\n",
    "    print(\"Number\", i)"
   ]
  },
  {
   "cell_type": "markdown",
   "id": "52884d42",
   "metadata": {},
   "source": [
    "### Fungsi range()"
   ]
  },
  {
   "cell_type": "markdown",
   "id": "dbc8f2ca",
   "metadata": {},
   "source": [
    "Fungsi range() sebenarnya memiliki tiga parameter yaitu:\n",
    "\n",
    "range(start, stop, step)\n",
    "\n",
    "- Start yaitu untuk menentukan nilai awal\n",
    "- Stop yaitu untuk menentukan nilai akhir satu step sebelumnya. Nilai stop tidak dimasukan pada serangkaian nilai tersebut\n",
    "- Step yaitu untuk menentukan nilai step atau langkah dalam serangkaian data"
   ]
  },
  {
   "cell_type": "code",
   "execution_count": 6,
   "id": "bf56b90b",
   "metadata": {},
   "outputs": [
    {
     "name": "stdout",
     "output_type": "stream",
     "text": [
      "range(1, 11, 2)\n"
     ]
    }
   ],
   "source": [
    "print(range(1,11, 2))"
   ]
  },
  {
   "cell_type": "code",
   "execution_count": 8,
   "id": "8c628deb",
   "metadata": {},
   "outputs": [
    {
     "name": "stdout",
     "output_type": "stream",
     "text": [
      "Nilai ke - 1\n",
      "Nilai ke - 3\n",
      "Nilai ke - 5\n",
      "Nilai ke - 7\n",
      "Nilai ke - 9\n"
     ]
    }
   ],
   "source": [
    "for i in range(1, 11, 2):\n",
    "    print(\"Nilai ke -\", i)"
   ]
  },
  {
   "cell_type": "code",
   "execution_count": 9,
   "id": "81e3bb9d",
   "metadata": {},
   "outputs": [
    {
     "name": "stdout",
     "output_type": "stream",
     "text": [
      "2 to the power 0 1\n",
      "2 to the power 1 2\n",
      "2 to the power 2 4\n",
      "2 to the power 3 8\n",
      "2 to the power 4 16\n",
      "2 to the power 5 32\n",
      "2 to the power 6 64\n",
      "2 to the power 7 128\n",
      "2 to the power 8 256\n",
      "2 to the power 9 512\n",
      "2 to the power 10 1024\n",
      "2 to the power 11 2048\n",
      "2 to the power 12 4096\n",
      "2 to the power 13 8192\n",
      "2 to the power 14 16384\n",
      "2 to the power 15 32768\n"
     ]
    }
   ],
   "source": [
    "x = 1\n",
    "for i in range(16):\n",
    "    print(\"2 to the power\", i, x)\n",
    "    x *= 2"
   ]
  }
 ],
 "metadata": {
  "kernelspec": {
   "display_name": "Python 3",
   "language": "python",
   "name": "python3"
  },
  "language_info": {
   "codemirror_mode": {
    "name": "ipython",
    "version": 3
   },
   "file_extension": ".py",
   "mimetype": "text/x-python",
   "name": "python",
   "nbconvert_exporter": "python",
   "pygments_lexer": "ipython3",
   "version": "3.8.5"
  }
 },
 "nbformat": 4,
 "nbformat_minor": 5
}
