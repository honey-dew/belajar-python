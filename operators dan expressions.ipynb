{
 "cells": [
  {
   "cell_type": "markdown",
   "id": "9c6eaac5",
   "metadata": {},
   "source": [
    "# Operators dan Expressions"
   ]
  },
  {
   "cell_type": "markdown",
   "id": "07ba0ef7",
   "metadata": {},
   "source": [
    "Operator adalah simbol dari bahasa pemrograman, yang mampu mengoperasikan nilai-nilai. COntohnya di dalam aritmatika terdapat tanda atau simbol + (tambah) yang digunakan untuk mengoperasikan penjumlahan.\n",
    "\n",
    "Beberapa operator aritmatik yang sering digunakan adalah:\n",
    "\n",
    "- penjumlahan (+)\n",
    "- pengurangan (-)\n",
    "- perkalian (*)\n",
    "- pembagian (/)\n",
    "- floor division (//)\n",
    "- modulo (%)\n",
    "- perpangkatan (**)"
   ]
  },
  {
   "cell_type": "markdown",
   "id": "18d0b4d4",
   "metadata": {},
   "source": [
    "<b>Ketika data dan operator dihubungkan akan membentuk sebuah expression</b>"
   ]
  },
  {
   "cell_type": "markdown",
   "id": "9dde200d",
   "metadata": {},
   "source": [
    "## Perpangkatan"
   ]
  },
  {
   "cell_type": "markdown",
   "id": "4a3bdd69",
   "metadata": {},
   "source": [
    "Angka atau nilai yang berada disebelah kiri dari perpangkatan ini yaitu base dan yang di sebelah kanan yaitu eksponen"
   ]
  },
  {
   "cell_type": "code",
   "execution_count": 1,
   "id": "b79e5bda",
   "metadata": {},
   "outputs": [
    {
     "name": "stdout",
     "output_type": "stream",
     "text": [
      "8\n"
     ]
    }
   ],
   "source": [
    "print(2 ** 3)"
   ]
  },
  {
   "cell_type": "code",
   "execution_count": 2,
   "id": "c7a0d2ed",
   "metadata": {},
   "outputs": [
    {
     "name": "stdout",
     "output_type": "stream",
     "text": [
      "8.0\n"
     ]
    }
   ],
   "source": [
    "print(2. ** 3)"
   ]
  },
  {
   "cell_type": "code",
   "execution_count": 3,
   "id": "b45b0cd4",
   "metadata": {},
   "outputs": [
    {
     "name": "stdout",
     "output_type": "stream",
     "text": [
      "8.0\n"
     ]
    }
   ],
   "source": [
    "print(2 ** 3.)"
   ]
  },
  {
   "cell_type": "markdown",
   "id": "d6b0d223",
   "metadata": {},
   "source": [
    "Jika base dan eksponen adalah integer maka hasil dari perpangkatan adalah bilangan integer, tetapi apabila salah satu adalah float maka hasilnya adalah bilangan float"
   ]
  },
  {
   "cell_type": "markdown",
   "id": "4df7d7ad",
   "metadata": {},
   "source": [
    "## Perkalian"
   ]
  },
  {
   "cell_type": "code",
   "execution_count": 4,
   "id": "5d9e083e",
   "metadata": {},
   "outputs": [
    {
     "name": "stdout",
     "output_type": "stream",
     "text": [
      "6\n"
     ]
    }
   ],
   "source": [
    "print(2 * 3)"
   ]
  },
  {
   "cell_type": "code",
   "execution_count": 5,
   "id": "19bf028e",
   "metadata": {},
   "outputs": [
    {
     "name": "stdout",
     "output_type": "stream",
     "text": [
      "6.0\n"
     ]
    }
   ],
   "source": [
    "print(2. * 3)"
   ]
  },
  {
   "cell_type": "code",
   "execution_count": 6,
   "id": "237fee1d",
   "metadata": {},
   "outputs": [
    {
     "name": "stdout",
     "output_type": "stream",
     "text": [
      "6.0\n"
     ]
    }
   ],
   "source": [
    "print(2 * 3.)"
   ]
  },
  {
   "cell_type": "markdown",
   "id": "43387ad3",
   "metadata": {},
   "source": [
    "## Pembagian"
   ]
  },
  {
   "cell_type": "code",
   "execution_count": 9,
   "id": "e281cee6",
   "metadata": {},
   "outputs": [
    {
     "name": "stdout",
     "output_type": "stream",
     "text": [
      "3.0\n"
     ]
    }
   ],
   "source": [
    "print(9 / 3)"
   ]
  },
  {
   "cell_type": "code",
   "execution_count": 10,
   "id": "2fc0935f",
   "metadata": {},
   "outputs": [
    {
     "name": "stdout",
     "output_type": "stream",
     "text": [
      "3.0\n"
     ]
    }
   ],
   "source": [
    "print(9. / 3)"
   ]
  },
  {
   "cell_type": "code",
   "execution_count": 11,
   "id": "b5ac32f6",
   "metadata": {},
   "outputs": [
    {
     "name": "stdout",
     "output_type": "stream",
     "text": [
      "3.0\n"
     ]
    }
   ],
   "source": [
    "print(9 / 3.)"
   ]
  },
  {
   "cell_type": "markdown",
   "id": "c7ef9f82",
   "metadata": {},
   "source": [
    "Hasil dari pembagian akan selalu bilangan float."
   ]
  },
  {
   "cell_type": "markdown",
   "id": "8a0435c1",
   "metadata": {},
   "source": [
    "## Floor Division"
   ]
  },
  {
   "cell_type": "markdown",
   "id": "1db66732",
   "metadata": {},
   "source": [
    "Floor division bisa juga disebut integer division adalah operasi pembagian yang akan pembulatan pada hasil pembagian tersebut"
   ]
  },
  {
   "cell_type": "code",
   "execution_count": 12,
   "id": "c8d76e55",
   "metadata": {},
   "outputs": [
    {
     "name": "stdout",
     "output_type": "stream",
     "text": [
      "3\n"
     ]
    }
   ],
   "source": [
    "print(9 // 3)"
   ]
  },
  {
   "cell_type": "code",
   "execution_count": 13,
   "id": "da236b5b",
   "metadata": {},
   "outputs": [
    {
     "name": "stdout",
     "output_type": "stream",
     "text": [
      "3.0\n"
     ]
    }
   ],
   "source": [
    "print(9. // 3)"
   ]
  },
  {
   "cell_type": "code",
   "execution_count": 14,
   "id": "117291f3",
   "metadata": {},
   "outputs": [
    {
     "name": "stdout",
     "output_type": "stream",
     "text": [
      "3.0\n"
     ]
    }
   ],
   "source": [
    "print(9 // 3.)"
   ]
  },
  {
   "cell_type": "code",
   "execution_count": 15,
   "id": "4d740432",
   "metadata": {},
   "outputs": [
    {
     "name": "stdout",
     "output_type": "stream",
     "text": [
      "3.0\n"
     ]
    }
   ],
   "source": [
    "print(9. // 3.)"
   ]
  },
  {
   "cell_type": "code",
   "execution_count": 16,
   "id": "d867b010",
   "metadata": {},
   "outputs": [
    {
     "name": "stdout",
     "output_type": "stream",
     "text": [
      "4\n"
     ]
    }
   ],
   "source": [
    "print(9 // 2)"
   ]
  },
  {
   "cell_type": "code",
   "execution_count": 17,
   "id": "b17a14f2",
   "metadata": {},
   "outputs": [
    {
     "name": "stdout",
     "output_type": "stream",
     "text": [
      "4.0\n"
     ]
    }
   ],
   "source": [
    "print(9. // 2)"
   ]
  },
  {
   "cell_type": "code",
   "execution_count": 18,
   "id": "7e4df34b",
   "metadata": {},
   "outputs": [
    {
     "name": "stdout",
     "output_type": "stream",
     "text": [
      "-5\n"
     ]
    }
   ],
   "source": [
    "print(9 // -2)"
   ]
  },
  {
   "cell_type": "markdown",
   "id": "9f977451",
   "metadata": {},
   "source": [
    "Pembulatan pada operasi floor division ini akan mengambil bilangan yang lebih kecil. Contohnya apabila suatu operasi pembagian menghasilkan 4.5 maka hasil dari floor division adalah 4 (4 lebih kecil dari 5), apabila hasil dari suatu operasi pembagian adalah -4.5 maka hasil dari floor division adalah -5 (-5 lebih kecil dari -4)."
   ]
  },
  {
   "cell_type": "markdown",
   "id": "d2b7ef65",
   "metadata": {},
   "source": [
    "## Modulo"
   ]
  },
  {
   "cell_type": "markdown",
   "id": "973ee402",
   "metadata": {},
   "source": [
    "Modulo adalah operasi sisa hasil bagi"
   ]
  },
  {
   "cell_type": "code",
   "execution_count": 19,
   "id": "eaf99c6b",
   "metadata": {},
   "outputs": [
    {
     "name": "stdout",
     "output_type": "stream",
     "text": [
      "2\n"
     ]
    }
   ],
   "source": [
    "print(14 % 3)"
   ]
  },
  {
   "cell_type": "code",
   "execution_count": 20,
   "id": "aff9ede5",
   "metadata": {},
   "outputs": [
    {
     "name": "stdout",
     "output_type": "stream",
     "text": [
      "2.0\n"
     ]
    }
   ],
   "source": [
    "print(14. % 3)"
   ]
  },
  {
   "cell_type": "code",
   "execution_count": 21,
   "id": "799db04a",
   "metadata": {},
   "outputs": [
    {
     "name": "stdout",
     "output_type": "stream",
     "text": [
      "0\n"
     ]
    }
   ],
   "source": [
    "print(12 % 3)"
   ]
  },
  {
   "cell_type": "code",
   "execution_count": 17,
   "id": "97c72981",
   "metadata": {},
   "outputs": [
    {
     "name": "stdout",
     "output_type": "stream",
     "text": [
      "2\n"
     ]
    }
   ],
   "source": [
    "print(2 % 3)"
   ]
  },
  {
   "cell_type": "code",
   "execution_count": 31,
   "id": "c9176c58",
   "metadata": {},
   "outputs": [
    {
     "name": "stdout",
     "output_type": "stream",
     "text": [
      "2\n"
     ]
    }
   ],
   "source": [
    "print(2 % 10)"
   ]
  },
  {
   "cell_type": "code",
   "execution_count": 33,
   "id": "b8996f32",
   "metadata": {},
   "outputs": [
    {
     "name": "stdout",
     "output_type": "stream",
     "text": [
      "-1\n"
     ]
    }
   ],
   "source": [
    "print(2 % -3)"
   ]
  },
  {
   "cell_type": "code",
   "execution_count": 20,
   "id": "d64896d8",
   "metadata": {},
   "outputs": [
    {
     "name": "stdout",
     "output_type": "stream",
     "text": [
      "-28\n"
     ]
    }
   ],
   "source": [
    "print(2 % -30)"
   ]
  },
  {
   "cell_type": "code",
   "execution_count": 37,
   "id": "6abc116e",
   "metadata": {},
   "outputs": [
    {
     "name": "stdout",
     "output_type": "stream",
     "text": [
      "3\n"
     ]
    }
   ],
   "source": [
    "print(-2 % 5)"
   ]
  },
  {
   "cell_type": "code",
   "execution_count": 57,
   "id": "09925714",
   "metadata": {},
   "outputs": [
    {
     "name": "stdout",
     "output_type": "stream",
     "text": [
      "5\n"
     ]
    }
   ],
   "source": [
    "print(-11 % 8)"
   ]
  },
  {
   "cell_type": "markdown",
   "id": "10b15d01",
   "metadata": {},
   "source": [
    "## Penjumlahan"
   ]
  },
  {
   "cell_type": "code",
   "execution_count": 22,
   "id": "6c5885c8",
   "metadata": {},
   "outputs": [
    {
     "name": "stdout",
     "output_type": "stream",
     "text": [
      "5\n"
     ]
    }
   ],
   "source": [
    "print(2 + 3)"
   ]
  },
  {
   "cell_type": "code",
   "execution_count": 23,
   "id": "a2cfbc8b",
   "metadata": {},
   "outputs": [
    {
     "name": "stdout",
     "output_type": "stream",
     "text": [
      "5.0\n"
     ]
    }
   ],
   "source": [
    "print(2. + 3)"
   ]
  },
  {
   "cell_type": "markdown",
   "id": "ff381ac4",
   "metadata": {},
   "source": [
    "## Pengurangan"
   ]
  },
  {
   "cell_type": "code",
   "execution_count": 24,
   "id": "c93d38cd",
   "metadata": {},
   "outputs": [
    {
     "name": "stdout",
     "output_type": "stream",
     "text": [
      "3\n"
     ]
    }
   ],
   "source": [
    "print(6 - 3)"
   ]
  },
  {
   "cell_type": "code",
   "execution_count": 25,
   "id": "7f3f5efe",
   "metadata": {},
   "outputs": [
    {
     "name": "stdout",
     "output_type": "stream",
     "text": [
      "3.0\n"
     ]
    }
   ],
   "source": [
    "print(6.0 - 3)"
   ]
  },
  {
   "cell_type": "markdown",
   "id": "54509b1a",
   "metadata": {},
   "source": [
    "### Unary"
   ]
  },
  {
   "cell_type": "code",
   "execution_count": 26,
   "id": "2c542a11",
   "metadata": {},
   "outputs": [
    {
     "name": "stdout",
     "output_type": "stream",
     "text": [
      "-4\n"
     ]
    }
   ],
   "source": [
    "print(-4)"
   ]
  },
  {
   "cell_type": "code",
   "execution_count": 27,
   "id": "a563186d",
   "metadata": {},
   "outputs": [
    {
     "name": "stdout",
     "output_type": "stream",
     "text": [
      "4\n"
     ]
    }
   ],
   "source": [
    "print(+4)"
   ]
  },
  {
   "cell_type": "markdown",
   "id": "3360dac8",
   "metadata": {},
   "source": [
    "## Prioritas pada operator"
   ]
  },
  {
   "cell_type": "markdown",
   "id": "066bf6b5",
   "metadata": {},
   "source": [
    "Terkadang di dalam sebuah expression terdapat beberapa operator, misalnya 2 + 3 * 4. Apabila terdapat expression seperti itu maka operasi yang akan dilakukan terlebih dahulu yaitu perkalian baru setelah itu operasi penjumlahan."
   ]
  },
  {
   "cell_type": "code",
   "execution_count": 28,
   "id": "17be4d51",
   "metadata": {},
   "outputs": [
    {
     "name": "stdout",
     "output_type": "stream",
     "text": [
      "14\n"
     ]
    }
   ],
   "source": [
    "print(2 + 3 * 4)"
   ]
  },
  {
   "cell_type": "code",
   "execution_count": 29,
   "id": "3c5814a9",
   "metadata": {},
   "outputs": [
    {
     "name": "stdout",
     "output_type": "stream",
     "text": [
      "5.0\n"
     ]
    }
   ],
   "source": [
    "print(2 + 6 / 2)"
   ]
  },
  {
   "cell_type": "code",
   "execution_count": 30,
   "id": "89c0d5f1",
   "metadata": {},
   "outputs": [
    {
     "name": "stdout",
     "output_type": "stream",
     "text": [
      "6\n"
     ]
    }
   ],
   "source": [
    "print(2 + 9 // 2)"
   ]
  },
  {
   "cell_type": "markdown",
   "id": "91332e80",
   "metadata": {},
   "source": [
    "<table style=\"width: 75%\">\n",
    "    <tr>\n",
    "        <th style=\"text-align: left\">Prioritas</th>\n",
    "        <th style=\"text-align: left\">Sign</th>\n",
    "        <th style=\"text-align: left\">Operator</th>\n",
    "    </tr>\n",
    "    <tr>\n",
    "        <td style=\"text-align: left\">1</td>\n",
    "        <td style=\"text-align: left\">+, -</td>\n",
    "        <td style=\"text-align: left\">Unary</td>\n",
    "    </tr>\n",
    "    <tr>\n",
    "        <td style=\"text-align: left\">2</td>\n",
    "        <td style=\"text-align: left\">**</td>\n",
    "        <td style=\"text-align: left\">Eksponensial</td>\n",
    "    </tr>\n",
    "    <tr>\n",
    "        <td style=\"text-align: left\">3</td>\n",
    "        <td style=\"text-align: left\">*, /, %</td>\n",
    "        <td style=\"text-align: left\">Perkalian, Pembagian dan Modulo</td>\n",
    "    </tr>\n",
    "    <tr>\n",
    "        <td style=\"text-align: left\">4</td>\n",
    "        <td style=\"text-align: left\">+, -</td>\n",
    "        <td style=\"text-align: left\">Penjumlahan dan pengurangan</td>\n",
    "    </tr>\n",
    "</table> "
   ]
  },
  {
   "cell_type": "markdown",
   "id": "3831ea6b",
   "metadata": {},
   "source": [
    "## Binding pada Operator"
   ]
  },
  {
   "cell_type": "markdown",
   "id": "1d300fe3",
   "metadata": {},
   "source": [
    "Urutan pengerjaan pada operator yang mempunyai prioritas yang sama adalah dari kiri ke kanan atau bisa disebut dengan <b>left-sided binding</b>."
   ]
  },
  {
   "cell_type": "code",
   "execution_count": 6,
   "id": "79a54237",
   "metadata": {},
   "outputs": [
    {
     "name": "stdout",
     "output_type": "stream",
     "text": [
      "1\n"
     ]
    }
   ],
   "source": [
    "print(9 % 6 % 2)"
   ]
  },
  {
   "cell_type": "markdown",
   "id": "43be41e4",
   "metadata": {},
   "source": [
    "expression di atas sama seperti berikut"
   ]
  },
  {
   "cell_type": "code",
   "execution_count": 8,
   "id": "c6e9041b",
   "metadata": {},
   "outputs": [
    {
     "name": "stdout",
     "output_type": "stream",
     "text": [
      "1\n"
     ]
    }
   ],
   "source": [
    "print(3 % 2)"
   ]
  },
  {
   "cell_type": "markdown",
   "id": "d3ccc5a5",
   "metadata": {},
   "source": [
    "### Binding pada Operator Eksponensial"
   ]
  },
  {
   "cell_type": "markdown",
   "id": "a12d4ef2",
   "metadata": {},
   "source": [
    "Pada operator eksponensial urutan pengerjaan adalah dari kanan ke kiri atau bisa disebut <b>right-sided binding</b>."
   ]
  },
  {
   "cell_type": "code",
   "execution_count": 7,
   "id": "4bcbfdcb",
   "metadata": {},
   "outputs": [
    {
     "name": "stdout",
     "output_type": "stream",
     "text": [
      "256\n"
     ]
    }
   ],
   "source": [
    "print(2 ** 2 ** 3)"
   ]
  },
  {
   "cell_type": "markdown",
   "id": "636c7fd4",
   "metadata": {},
   "source": [
    "expression di atas sama seperti berikut"
   ]
  },
  {
   "cell_type": "code",
   "execution_count": 9,
   "id": "f1515d70",
   "metadata": {},
   "outputs": [
    {
     "name": "stdout",
     "output_type": "stream",
     "text": [
      "256\n"
     ]
    }
   ],
   "source": [
    "print(2 ** 8)"
   ]
  },
  {
   "cell_type": "markdown",
   "id": "80c4bf7d",
   "metadata": {},
   "source": [
    "## Tanda Kurung pada Operator"
   ]
  },
  {
   "cell_type": "markdown",
   "id": "eaef35eb",
   "metadata": {},
   "source": [
    "Tanda kurung di dalam sebuah expression bisa digunakan untuk menentukan urutan pengerjaan operator mana terlebih dahulu yang akan dikerjaan. "
   ]
  },
  {
   "cell_type": "code",
   "execution_count": 10,
   "id": "cf267b2e",
   "metadata": {},
   "outputs": [
    {
     "name": "stdout",
     "output_type": "stream",
     "text": [
      "14\n"
     ]
    }
   ],
   "source": [
    "print(2 + 3 * 4)"
   ]
  },
  {
   "cell_type": "markdown",
   "id": "a86f9688",
   "metadata": {},
   "source": [
    "Hasil dari expression di atas akan berbeda apabila terdapat tanda kurung seperti contoh dibawah ini:"
   ]
  },
  {
   "cell_type": "code",
   "execution_count": 12,
   "id": "52fbd558",
   "metadata": {
    "scrolled": true
   },
   "outputs": [
    {
     "name": "stdout",
     "output_type": "stream",
     "text": [
      "20\n"
     ]
    }
   ],
   "source": [
    "print((2 + 3) * 4)"
   ]
  },
  {
   "cell_type": "markdown",
   "id": "8913e6be",
   "metadata": {},
   "source": [
    "## String Operator"
   ]
  },
  {
   "cell_type": "markdown",
   "id": "c08720aa",
   "metadata": {},
   "source": [
    "Simbol penjumlahan (+) dan simbol perkalian (\\*) tidak hanya saja bisa dipakai pada operasi aritmatik, tetapi juga bisa digunakan untuk operasi pada string.\n",
    "\n",
    "simbol (+) pada operasi string digunakan untuk menggabungkan string, sedangkan simbol (\\*) digunakan untuk mengulang atau melipatgandakan jumlah string menjadi beberapa kali."
   ]
  },
  {
   "cell_type": "code",
   "execution_count": 1,
   "id": "3c96d84e",
   "metadata": {},
   "outputs": [
    {
     "name": "stdout",
     "output_type": "stream",
     "text": [
      "muhlis adiwiguna\n"
     ]
    }
   ],
   "source": [
    "print(\"muhlis\" + \" \" + \"adiwiguna\")"
   ]
  },
  {
   "cell_type": "code",
   "execution_count": 6,
   "id": "fa11a4cc",
   "metadata": {},
   "outputs": [
    {
     "name": "stdout",
     "output_type": "stream",
     "text": [
      "muhlismuhlis\n"
     ]
    }
   ],
   "source": [
    "print(\"muhlis\" * 2)"
   ]
  },
  {
   "cell_type": "code",
   "execution_count": 3,
   "id": "959404f4",
   "metadata": {
    "scrolled": true
   },
   "outputs": [
    {
     "name": "stdout",
     "output_type": "stream",
     "text": [
      "muhlis adiwiguna muhlis adiwiguna \n"
     ]
    }
   ],
   "source": [
    "print((\"muhlis\" + \" \" + \"adiwiguna\" + \" \") * 2)"
   ]
  }
 ],
 "metadata": {
  "kernelspec": {
   "display_name": "Python 3",
   "language": "python",
   "name": "python3"
  },
  "language_info": {
   "codemirror_mode": {
    "name": "ipython",
    "version": 3
   },
   "file_extension": ".py",
   "mimetype": "text/x-python",
   "name": "python",
   "nbconvert_exporter": "python",
   "pygments_lexer": "ipython3",
   "version": "3.8.5"
  }
 },
 "nbformat": 4,
 "nbformat_minor": 5
}
