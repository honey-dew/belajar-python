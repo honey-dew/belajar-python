{
 "cells": [
  {
   "cell_type": "markdown",
   "id": "1fbb8e02",
   "metadata": {},
   "source": [
    "# Type casting"
   ]
  },
  {
   "cell_type": "markdown",
   "id": "b715878e",
   "metadata": {},
   "source": [
    "Type casting pada python digunakan untuk menspesifikasikan suatu tipe data. Ada beberapa type casting yang ada pada ptyhon seperti berikut ini:\n",
    "\n",
    "- int()\n",
    "- float()\n",
    "- str()"
   ]
  },
  {
   "cell_type": "markdown",
   "id": "7d12ab15",
   "metadata": {},
   "source": [
    "<b>int()</b><br>\n",
    "Fungsi int() akan membuat objek integer dan memerlukan satu argumen yaitu bisa berupa string atau number lalu mencoba merubah menjadi bilangan integer. jika tidak ada argumen yang dimasukan maka akan mengembalikan nilai 0."
   ]
  },
  {
   "cell_type": "code",
   "execution_count": 39,
   "id": "ca4eadb7",
   "metadata": {},
   "outputs": [
    {
     "name": "stdout",
     "output_type": "stream",
     "text": [
      "2\n"
     ]
    }
   ],
   "source": [
    "print(int(\"2\"))"
   ]
  },
  {
   "cell_type": "code",
   "execution_count": 50,
   "id": "bbb496d7",
   "metadata": {},
   "outputs": [
    {
     "name": "stdout",
     "output_type": "stream",
     "text": [
      "2\n"
     ]
    }
   ],
   "source": [
    "print(int(2.5))"
   ]
  },
  {
   "cell_type": "code",
   "execution_count": 44,
   "id": "ba227883",
   "metadata": {},
   "outputs": [
    {
     "name": "stdout",
     "output_type": "stream",
     "text": [
      "2\n"
     ]
    }
   ],
   "source": [
    "print(int(2))"
   ]
  },
  {
   "cell_type": "code",
   "execution_count": 43,
   "id": "5bd52f0f",
   "metadata": {},
   "outputs": [
    {
     "name": "stdout",
     "output_type": "stream",
     "text": [
      "0\n"
     ]
    }
   ],
   "source": [
    "print(int())"
   ]
  },
  {
   "cell_type": "markdown",
   "id": "d7862203",
   "metadata": {},
   "source": [
    "<b>float()</b><br>\n",
    "Fungsi float() akan membuat objek float dan memerlukan satu argument yaitu bisa string atau number lalu mencoba merubah menjadi bilangan float. jika tidak ada argumen yang dimasukan maka akan mengembalikan nilai 0,0."
   ]
  },
  {
   "cell_type": "code",
   "execution_count": 45,
   "id": "5673189d",
   "metadata": {},
   "outputs": [
    {
     "name": "stdout",
     "output_type": "stream",
     "text": [
      "2.5\n"
     ]
    }
   ],
   "source": [
    "print(float(\"2.5\"))"
   ]
  },
  {
   "cell_type": "code",
   "execution_count": 51,
   "id": "01a27ff3",
   "metadata": {},
   "outputs": [
    {
     "name": "stdout",
     "output_type": "stream",
     "text": [
      "2.5\n"
     ]
    }
   ],
   "source": [
    "print(float(2.5))"
   ]
  },
  {
   "cell_type": "code",
   "execution_count": 52,
   "id": "927217a5",
   "metadata": {},
   "outputs": [
    {
     "name": "stdout",
     "output_type": "stream",
     "text": [
      "2.0\n"
     ]
    }
   ],
   "source": [
    "print(float(2))"
   ]
  },
  {
   "cell_type": "code",
   "execution_count": 48,
   "id": "4cc31aad",
   "metadata": {},
   "outputs": [
    {
     "name": "stdout",
     "output_type": "stream",
     "text": [
      "0.0\n"
     ]
    }
   ],
   "source": [
    "print(float())"
   ]
  },
  {
   "cell_type": "markdown",
   "id": "37eab3aa",
   "metadata": {},
   "source": [
    "<b>str()</b><br>\n",
    "Fungsi str() akan membuat sebuah objek string dan memerlukan satu argumen yaitu bisa string atau number lalu mencoba merubah menjadi string. jika tidak ada argumen yang dimasukan maka akan mengembalikan empty string (\"\")."
   ]
  },
  {
   "cell_type": "code",
   "execution_count": 49,
   "id": "d3afc5f6",
   "metadata": {},
   "outputs": [
    {
     "name": "stdout",
     "output_type": "stream",
     "text": [
      "2.5\n"
     ]
    }
   ],
   "source": [
    "print(str(\"2.5\"))"
   ]
  },
  {
   "cell_type": "code",
   "execution_count": 53,
   "id": "4035e70b",
   "metadata": {},
   "outputs": [
    {
     "name": "stdout",
     "output_type": "stream",
     "text": [
      "2.5\n"
     ]
    }
   ],
   "source": [
    "print(str(2.5))"
   ]
  },
  {
   "cell_type": "code",
   "execution_count": 54,
   "id": "549aa127",
   "metadata": {},
   "outputs": [
    {
     "name": "stdout",
     "output_type": "stream",
     "text": [
      "2\n"
     ]
    }
   ],
   "source": [
    "print(str(2))"
   ]
  },
  {
   "cell_type": "code",
   "execution_count": 57,
   "id": "3b74c1b1",
   "metadata": {},
   "outputs": [
    {
     "name": "stdout",
     "output_type": "stream",
     "text": [
      "\n"
     ]
    }
   ],
   "source": [
    "print(str())"
   ]
  }
 ],
 "metadata": {
  "kernelspec": {
   "display_name": "Python 3",
   "language": "python",
   "name": "python3"
  },
  "language_info": {
   "codemirror_mode": {
    "name": "ipython",
    "version": 3
   },
   "file_extension": ".py",
   "mimetype": "text/x-python",
   "name": "python",
   "nbconvert_exporter": "python",
   "pygments_lexer": "ipython3",
   "version": "3.8.5"
  }
 },
 "nbformat": 4,
 "nbformat_minor": 5
}
