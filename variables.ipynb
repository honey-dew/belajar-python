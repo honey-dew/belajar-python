{
 "cells": [
  {
   "cell_type": "markdown",
   "id": "230c3dff",
   "metadata": {},
   "source": [
    "# Variables"
   ]
  },
  {
   "cell_type": "markdown",
   "id": "f749b304",
   "metadata": {},
   "source": [
    "Apabila kita ingin menyimpan suatu nilai yang akan dgunakan kembali maka nilai tersebut bisa dimasukan ke dalam variabel. Setiap variabel memiliki nama dan penamaan variabel harus mengikuti aturan penamaan variabel di dalam bahasa pemrograman python seperti berikut ini:\n",
    "\n",
    "the name of the variable must be composed of upper-case or lower-case letters, digits, and the character _ (underscore)\n",
    "\n",
    "- Nama variabel harus tersusun dari huruf besar atau huruf kecil, angka, dan karakter undrscore\n",
    "- Nama variabel harus dimulai dengan huruf\n",
    "- Karakter underscore adalah huruf\n",
    "- Huruf besar dan huruf kecil dianggap berbeda, misalnya variabel dengan nama name dengan Name adalah dua variabel yang berbeda\n",
    "- Nama variabel tidak boleh nama-nama yang sudah dipakai oleh python\n",
    "\n",
    "Pembuatan variabel sangat mudah, hanay dengan menggunakan nama yang diinginkan dengan tetap menyesuaikan aturan dalam pembuatan nama variabel yang telah disebutkan di atas kemudian tanda sama dengan dan setelah itu nilai yang akan disimpan ke dalam variabel tersebut. Nilai yang dapat dimasukan ke dalam variabel bisa apa saja."
   ]
  },
  {
   "cell_type": "code",
   "execution_count": 2,
   "id": "b11ce838",
   "metadata": {},
   "outputs": [],
   "source": [
    "nama = \"Muhlis\""
   ]
  },
  {
   "cell_type": "code",
   "execution_count": 3,
   "id": "b5144f46",
   "metadata": {},
   "outputs": [],
   "source": [
    "Nama = \"Adiwiguna\""
   ]
  },
  {
   "cell_type": "code",
   "execution_count": 5,
   "id": "b338772b",
   "metadata": {},
   "outputs": [],
   "source": [
    "_nama = \"gugun\""
   ]
  },
  {
   "cell_type": "code",
   "execution_count": 6,
   "id": "fd43c1c6",
   "metadata": {},
   "outputs": [],
   "source": [
    "nama1 = \"budi\""
   ]
  },
  {
   "cell_type": "code",
   "execution_count": 8,
   "id": "2fe94a7e",
   "metadata": {},
   "outputs": [
    {
     "ename": "SyntaxError",
     "evalue": "invalid syntax (<ipython-input-8-f0b0a1759771>, line 1)",
     "output_type": "error",
     "traceback": [
      "\u001b[0;36m  File \u001b[0;32m\"<ipython-input-8-f0b0a1759771>\"\u001b[0;36m, line \u001b[0;32m1\u001b[0m\n\u001b[0;31m    1nama = \"andi\" # error karena nama variabel diawali oleh angka\u001b[0m\n\u001b[0m     ^\u001b[0m\n\u001b[0;31mSyntaxError\u001b[0m\u001b[0;31m:\u001b[0m invalid syntax\n"
     ]
    }
   ],
   "source": [
    "1nama = \"andi\" # error karena nama variabel diawali oleh angka"
   ]
  },
  {
   "cell_type": "code",
   "execution_count": 9,
   "id": "89b6821e",
   "metadata": {},
   "outputs": [],
   "source": [
    "python_reserved_keyword = ['False', 'None', 'True', 'and', 'as', 'assert', 'break', 'class', 'continue', 'def', 'del', 'elif', 'else', 'except', 'finally', 'for', 'from', 'global', 'if', 'import', 'in', 'is', 'lambda', 'nonlocal', 'not', 'or', 'pass', 'raise', 'return', 'try', 'while', 'with', 'yield']"
   ]
  },
  {
   "cell_type": "code",
   "execution_count": 11,
   "id": "18c91c53",
   "metadata": {},
   "outputs": [
    {
     "ename": "SyntaxError",
     "evalue": "invalid syntax (<ipython-input-11-ab5124b1512d>, line 1)",
     "output_type": "error",
     "traceback": [
      "\u001b[0;36m  File \u001b[0;32m\"<ipython-input-11-ab5124b1512d>\"\u001b[0;36m, line \u001b[0;32m1\u001b[0m\n\u001b[0;31m    class = \"A\" # error karena class adalah salah satu nama yang sudah digunakan oleh python\u001b[0m\n\u001b[0m          ^\u001b[0m\n\u001b[0;31mSyntaxError\u001b[0m\u001b[0;31m:\u001b[0m invalid syntax\n"
     ]
    }
   ],
   "source": [
    "class = \"A\" # error karena class adalah salah satu nama yang sudah digunakan oleh python"
   ]
  },
  {
   "cell_type": "code",
   "execution_count": 12,
   "id": "51281a73",
   "metadata": {},
   "outputs": [],
   "source": [
    "Class = \"A\""
   ]
  },
  {
   "cell_type": "markdown",
   "id": "881977d3",
   "metadata": {},
   "source": [
    "## Menggunakan Variabel"
   ]
  },
  {
   "cell_type": "markdown",
   "id": "f27a91f6",
   "metadata": {},
   "source": [
    "Variabel bisa digunakan ketika variabel tersebut sudah dibuat, apabila variabel digunakan sebelum dibuat maka akan menyebabkan error."
   ]
  },
  {
   "cell_type": "code",
   "execution_count": 13,
   "id": "d645aa9e",
   "metadata": {},
   "outputs": [
    {
     "name": "stdout",
     "output_type": "stream",
     "text": [
      "John\n"
     ]
    }
   ],
   "source": [
    "name = \"John\"\n",
    "print(name)"
   ]
  },
  {
   "cell_type": "code",
   "execution_count": 14,
   "id": "c28cbb49",
   "metadata": {},
   "outputs": [
    {
     "ename": "NameError",
     "evalue": "name 'Name' is not defined",
     "output_type": "error",
     "traceback": [
      "\u001b[0;31m---------------------------------------------------------------------------\u001b[0m",
      "\u001b[0;31mNameError\u001b[0m                                 Traceback (most recent call last)",
      "\u001b[0;32m<ipython-input-14-8612edd11a97>\u001b[0m in \u001b[0;36m<module>\u001b[0;34m\u001b[0m\n\u001b[0;32m----> 1\u001b[0;31m \u001b[0mprint\u001b[0m\u001b[0;34m(\u001b[0m\u001b[0mName\u001b[0m\u001b[0;34m)\u001b[0m\u001b[0;34m\u001b[0m\u001b[0;34m\u001b[0m\u001b[0m\n\u001b[0m",
      "\u001b[0;31mNameError\u001b[0m: name 'Name' is not defined"
     ]
    }
   ],
   "source": [
    "print(Name) # error karena variabel Name belum dibuat"
   ]
  },
  {
   "cell_type": "markdown",
   "id": "da1054a8",
   "metadata": {},
   "source": [
    "## Menggabungkan Variabel dengan teks"
   ]
  },
  {
   "cell_type": "markdown",
   "id": "f32ceefb",
   "metadata": {},
   "source": [
    "Variabel bisa digabungkan dengan teks seperti contoh berikut ini:"
   ]
  },
  {
   "cell_type": "code",
   "execution_count": 15,
   "id": "205f140c",
   "metadata": {},
   "outputs": [
    {
     "name": "stdout",
     "output_type": "stream",
     "text": [
      "hello my name is John\n"
     ]
    }
   ],
   "source": [
    "print(\"hello my name is \" + name)"
   ]
  },
  {
   "cell_type": "markdown",
   "id": "ec558079",
   "metadata": {},
   "source": [
    "## Menetepakan Nilai Baru ke dalam Variabel yang Sudah Ada"
   ]
  },
  {
   "cell_type": "code",
   "execution_count": 17,
   "id": "245a4a8a",
   "metadata": {},
   "outputs": [
    {
     "name": "stdout",
     "output_type": "stream",
     "text": [
      "adiwiguna\n"
     ]
    }
   ],
   "source": [
    "first_name = \"muhlis\"\n",
    "first_name = \"adiwiguna\"\n",
    "print(first_name) # nilai muhlis pada variabel first_name akan digantikan oleh adiwiguna"
   ]
  },
  {
   "cell_type": "code",
   "execution_count": 18,
   "id": "c0122dcf",
   "metadata": {},
   "outputs": [
    {
     "name": "stdout",
     "output_type": "stream",
     "text": [
      "MuhlisAdiwiguna\n"
     ]
    }
   ],
   "source": [
    "name = \"Muhlis\"\n",
    "name = name + \"Adiwiguna\"\n",
    "print(name)"
   ]
  },
  {
   "cell_type": "code",
   "execution_count": 21,
   "id": "b9778b15",
   "metadata": {},
   "outputs": [
    {
     "name": "stdout",
     "output_type": "stream",
     "text": [
      "10\n"
     ]
    }
   ],
   "source": [
    "var = 5\n",
    "var = var + 5\n",
    "print(var)"
   ]
  },
  {
   "cell_type": "markdown",
   "id": "52f4eadf",
   "metadata": {},
   "source": [
    "### Shortcut Operator"
   ]
  },
  {
   "cell_type": "markdown",
   "id": "a148016a",
   "metadata": {},
   "source": [
    "Berikut ini adalah daftar shortcut operator untuk assignment suatu variabel"
   ]
  },
  {
   "cell_type": "markdown",
   "id": "7b670a30",
   "metadata": {},
   "source": [
    "<table style=\"width: 50%\">\n",
    "    <tr>\n",
    "        <th style=\"text-align: left\">Operator</th>\n",
    "        <th style=\"text-align: left\">Shorthand</th>\n",
    "        <th style=\"text-align: left\">Expression</th>\n",
    "    </tr>\n",
    "    <tr>\n",
    "        <td style=\"text-align: left\">+=</td>\n",
    "        <td style=\"text-align: left\">x += y</td>\n",
    "        <td style=\"text-align: left\">x = x + y</td>\n",
    "    </tr>\n",
    "    <tr>\n",
    "        <td style=\"text-align: left\">-=</td>\n",
    "        <td style=\"text-align: left\">x -= y</td>\n",
    "        <td style=\"text-align: left\">x = x - y</td>\n",
    "    </tr>\n",
    "    <tr>\n",
    "        <td style=\"text-align: left\">*=</td>\n",
    "        <td style=\"text-align: left\">x *= y</td>\n",
    "        <td style=\"text-align: left\">x = x * y</td>\n",
    "    </tr>\n",
    "    <tr>\n",
    "        <td style=\"text-align: left\">/=</td>\n",
    "        <td style=\"text-align: left\">x /= y</td>\n",
    "        <td style=\"text-align: left\">x = x / y</td>\n",
    "    </tr>\n",
    "    <tr>\n",
    "        <td style=\"text-align: left\">%=</td>\n",
    "        <td style=\"text-align: left\">x %= y</td>\n",
    "        <td style=\"text-align: left\">x = x % y</td>\n",
    "    </tr>\n",
    "    <tr>\n",
    "        <td style=\"text-align: left\">**=</td>\n",
    "        <td style=\"text-align: left\">x **= y</td>\n",
    "        <td style=\"text-align: left\">x = x ** y</td>\n",
    "    </tr>\n",
    "    <tr>\n",
    "        <td style=\"text-align: left\">//=</td>\n",
    "        <td style=\"text-align: left\">x //= y</td>\n",
    "        <td style=\"text-align: left\">x = x // y</td>\n",
    "    </tr>\n",
    "</table>"
   ]
  },
  {
   "cell_type": "code",
   "execution_count": 22,
   "id": "5a7c56c7",
   "metadata": {},
   "outputs": [
    {
     "name": "stdout",
     "output_type": "stream",
     "text": [
      "10\n"
     ]
    }
   ],
   "source": [
    "x1 = 5\n",
    "x1 = x1 + 5\n",
    "print(x1)"
   ]
  },
  {
   "cell_type": "code",
   "execution_count": 23,
   "id": "2dc2f110",
   "metadata": {},
   "outputs": [
    {
     "name": "stdout",
     "output_type": "stream",
     "text": [
      "10\n"
     ]
    }
   ],
   "source": [
    "x2 = 5\n",
    "x2 += 5\n",
    "print(x2)"
   ]
  },
  {
   "cell_type": "code",
   "execution_count": 24,
   "id": "f7c13522",
   "metadata": {},
   "outputs": [
    {
     "name": "stdout",
     "output_type": "stream",
     "text": [
      "8\n"
     ]
    }
   ],
   "source": [
    "y1 = 2\n",
    "y1 = y1 ** 3\n",
    "print(y1)"
   ]
  },
  {
   "cell_type": "code",
   "execution_count": 25,
   "id": "b55537f7",
   "metadata": {},
   "outputs": [
    {
     "name": "stdout",
     "output_type": "stream",
     "text": [
      "8\n"
     ]
    }
   ],
   "source": [
    "y2 = 2\n",
    "y2 **= 3\n",
    "print(y2)"
   ]
  },
  {
   "cell_type": "code",
   "execution_count": 26,
   "id": "257b672c",
   "metadata": {},
   "outputs": [
    {
     "name": "stdout",
     "output_type": "stream",
     "text": [
      "70\n"
     ]
    }
   ],
   "source": [
    "z1 = 5\n",
    "z1 = (z1 + 2) * 10\n",
    "print(z1)"
   ]
  },
  {
   "cell_type": "code",
   "execution_count": 34,
   "id": "1e242de8",
   "metadata": {},
   "outputs": [
    {
     "name": "stdout",
     "output_type": "stream",
     "text": [
      "25\n"
     ]
    }
   ],
   "source": [
    "z2 = 5\n",
    "z2 += 2 * 10\n",
    "print(z2)"
   ]
  },
  {
   "cell_type": "code",
   "execution_count": 35,
   "id": "fea756ec",
   "metadata": {},
   "outputs": [
    {
     "name": "stdout",
     "output_type": "stream",
     "text": [
      "100\n"
     ]
    }
   ],
   "source": [
    "z3 = 5\n",
    "z3 = z3 * 10 + 50\n",
    "print(z3)"
   ]
  },
  {
   "cell_type": "code",
   "execution_count": 36,
   "id": "1f9ca9d5",
   "metadata": {},
   "outputs": [
    {
     "name": "stdout",
     "output_type": "stream",
     "text": [
      "300\n"
     ]
    }
   ],
   "source": [
    "z4 = 5\n",
    "z4 *= 10 + 50\n",
    "print(z4)"
   ]
  },
  {
   "cell_type": "markdown",
   "id": "39f28a53",
   "metadata": {},
   "source": [
    "pada contoh variabel z3, urutan operasi pengerjaan assignment yaitu pertama yaitu z3 akan dikalikan 10 terlebih dahulu karena akan mengikuti sesuai prioritas pada operator selanjutnya baru hasilnya dijumlahkan dengan 50. Berbeda dengan contoh variabel z4, contoh tersebut menggunakan shortcut operator sehingga pengurutan pengerjaannya yaitu pertama operasi yang ada di sebelah kanan terlebih dahulu baru kemudian hasilnya akan digunakan untuk operasi dari shortcut operator tersebut.  "
   ]
  },
  {
   "cell_type": "code",
   "execution_count": 39,
   "id": "665f07a8",
   "metadata": {},
   "outputs": [
    {
     "name": "stdout",
     "output_type": "stream",
     "text": [
      "40\n"
     ]
    }
   ],
   "source": [
    "z5 = 2\n",
    "z5 = z5 ** 5 + 8\n",
    "print(z5)"
   ]
  },
  {
   "cell_type": "code",
   "execution_count": 41,
   "id": "19cc9a26",
   "metadata": {},
   "outputs": [
    {
     "name": "stdout",
     "output_type": "stream",
     "text": [
      "8192\n"
     ]
    }
   ],
   "source": [
    "z6 = 2\n",
    "z6 **= 5 + 8\n",
    "print(z6)"
   ]
  }
 ],
 "metadata": {
  "kernelspec": {
   "display_name": "Python 3",
   "language": "python",
   "name": "python3"
  },
  "language_info": {
   "codemirror_mode": {
    "name": "ipython",
    "version": 3
   },
   "file_extension": ".py",
   "mimetype": "text/x-python",
   "name": "python",
   "nbconvert_exporter": "python",
   "pygments_lexer": "ipython3",
   "version": "3.8.5"
  }
 },
 "nbformat": 4,
 "nbformat_minor": 5
}
